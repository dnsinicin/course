{
  "cells":[
    {
      "cell_type":"markdown",
      "source":[
        "# Курсовая работа. Блок 1\n",
        "*Pandas и Matplotlib*\n",
        "\n",
        "**NB!** Код должен быть с комментариями к каждому логическому блоку кода. В противном случае работа **не** будет принята. <br><br>\n",
        "Выполнение курсовой работы может потребовать использование дополнительных библиотек. \n",
        "\n",
        "<br><br>\n",
        "**Описание работы:**\n",
        "\n",
        "Перед вами стоит бизнес-задача – на основании имеющихся данных подготовить аналитический отчет, который в дальнейшем поможет продюсерам образовательных программ эффективно выстраивать стратегию по модернизированию и улучшению курсов. В начале отчета предлагается оформить емкий описательный блок по каждому курсу на основании рассчитанных показателей. Далее предлагается посчитать потенциальную нагрузку на преподавателей, чтобы оценить необходимость расширения штата сотрудников. Затем идет блок из двух пунктов по анализу качества контента курсов, где необходимо выявить проблемные модули, которые, возможно, требуют доработки. Также стоит задача выявить потенциальную сезонность. Наконец, предложено задание для самостоятельной разработки метрики успеваемости студентов для нахождения тех, кто значительно хуже справляются с прохождением курса. Каждый из пунктов анализа предполагается сопроводить аналитическим выводом на основании рассчитанных метрик.\n",
        "\n",
        "<br><br>\n",
        "\n",
        "_________\n",
        "Обозначения:<br><br>\n",
        "&nbsp;&nbsp;&nbsp;&nbsp;**(p)** – задание может быть выполнено после прохождения модулей по Pandas <br>\n",
        "&nbsp;&nbsp;&nbsp;&nbsp;**(m)** – задание может быть выполнено после прохождения модуля по Matplotlib <br>\n",
        "&nbsp;&nbsp;&nbsp;&nbsp;⭐ – необязательное задание повышенной сложности\n",
        "_________\n",
        "\n",
        "[Codebook](attachment:.\/#Codebook) <br>\n",
        "[1. Описание и начальная работа с данными](attachment:.\/#1.1-Описание-и-начальная-работа-с-данными)<br>\n",
        "[2. Расчет потенциальной нагрузки на преподавателей](attachment:.\/#2.-Расчет-потенциальной-нагрузки-на-преподавателей)<br>\n",
        "[3. Выявление проблемных модулей](attachment:.\/#3.-Выявление-проблемных-модулей)<br>\n",
        "[4. Расчет конверсии](attachment:.\/#4.-Расчет-конверсии) <br>\n",
        "[5. Метрика успеваемости ](attachment:.\/#5.-Метрика-успеваемости)"
      ],
      "attachments":{
        
      },
      "metadata":{
        
      }
    },
    {
      "cell_type":"markdown",
      "source":[
        "## Codebook\n",
        "\n",
        "`courses.csv` содержит следующие значения: <br><br>\n",
        "&nbsp;&nbsp;&nbsp;&nbsp; `id` – идентификатор курса <br>\n",
        "&nbsp;&nbsp;&nbsp;&nbsp; `title` – название курса <br>\n",
        "&nbsp;&nbsp;&nbsp;&nbsp;  `field` – сфера, к которой относится курс <br> <br><br>\n",
        "`students.csv` содержит следующие значения: <br><br>\n",
        "&nbsp;&nbsp;&nbsp;&nbsp; `id` – идентификатор студента <br>\n",
        "&nbsp;&nbsp;&nbsp;&nbsp; `city` – город студента <br>\n",
        "&nbsp;&nbsp;&nbsp;&nbsp;  `birthday` – день рождения студента <br> <br><br>\n",
        "`course_contents.csv` содержит следующие значения: <br><br>\n",
        "&nbsp;&nbsp;&nbsp;&nbsp; `course_id` – идентификатор курса <br>\n",
        "&nbsp;&nbsp;&nbsp;&nbsp; `module_number` – номер модуля <br>\n",
        "&nbsp;&nbsp;&nbsp;&nbsp;  `module_title` – название модуля <br> \n",
        "&nbsp;&nbsp;&nbsp;&nbsp; `lesson_number` – номер урока <br>\n",
        "&nbsp;&nbsp;&nbsp;&nbsp;  `lesson_title` – название урока <br>\n",
        "&nbsp;&nbsp;&nbsp;&nbsp;  `lesson_token` – токен урока <br> \n",
        "&nbsp;&nbsp;&nbsp;&nbsp; `is_video` – наличие видео *(true\/false)* <br>\n",
        "&nbsp;&nbsp;&nbsp;&nbsp;  `is_homework` – наличие домашней работы *(true\/false)* <br>\n",
        "<br><br>\n",
        "`progresses.csv` содержит следующие значения: <br><br>\n",
        "&nbsp;&nbsp;&nbsp;&nbsp; `id` – идентификатор прогресса <br>\n",
        "&nbsp;&nbsp;&nbsp;&nbsp; `student_id` – идентификатор студента <br>\n",
        "&nbsp;&nbsp;&nbsp;&nbsp;  `course_id` – идентификатор курса <br> <br><br>\n",
        "`progress_phases.csv` содержит следующие значения: <br><br>\n",
        "&nbsp;&nbsp;&nbsp;&nbsp; `progress_id` – идентификатор прогресса <br>\n",
        "&nbsp;&nbsp;&nbsp;&nbsp; `module_number` – номер модуля <br>\n",
        "&nbsp;&nbsp;&nbsp;&nbsp; `lesson_number` – номер урока <br>\n",
        "&nbsp;&nbsp;&nbsp;&nbsp;  `status` – статус прохождения урока <br>\n",
        "&nbsp;&nbsp;&nbsp;&nbsp;  `start_date` – дата начала <br> \n",
        "&nbsp;&nbsp;&nbsp;&nbsp; `finish_date` – дата окончания <br>\n",
        "<br><br>"
      ],
      "attachments":{
        
      },
      "metadata":{
        
      }
    },
    {
      "cell_type":"markdown",
      "source":[
        "## 1. Описание и начальная работа с данными\n",
        "\n",
        "Вам необходимо подготовить данные и описать их. Данные реальные и содержат пропущенные значения, а также лишние относительно друг друга данные. <br>\n",
        "\n",
        "Объедините датасеты (кроме `students.scv`) в один общий для дальнейшей работы. Отдельный датасет создайте для расчета среднего возраста студентов курсов (отдельный датасет со `students.scv` нужен, чтобы в основном не потерять значения в основном датасете из-за того, что не по всем студентам есть анкетные данные о дате рождения). <br> <br>\n",
        "Опишите данные: <br>\n",
        "1. **(p)** Посчитайте\n",
        "      * общее количество курсов в датасете, \n",
        "      * количество модулей на каждом курсе, \n",
        "      * количество уроков в каждом модуле на каждом курсе, \n",
        "      * медианное количество уроков в модуле на каждом курсе, \n",
        "      * количество учеников на каждом курсе\n",
        "      * минимальный, максимальный, средний, медианный возраст студентов\n",
        "      * минимальный, максимальный, средний, медианный возраст студентов на каждом курсе\n",
        "2. **(m)** Постройте bar-chart, отражающий количество студентов на каждом курсе. Ticks нужно развернуть так, чтобы они были читаемы\n",
        "3. **(m)** Постройте горизонтальный (столбцы должны располагаться горизонтально) bar-chart, отражающий количество студентов на каждом курсе. График должен иметь заголовок. Значения должны быть отсортированы. Цвет столбцов должен содержать информацию о сфере, к которой относится курс (то есть нужна легенда). Прозрачность должна стоять на отметке 0.1. На график должна быть нанесена линия медианы. У медианы должен быть свой цвет. Рамки у графика быть не должно ⭐\n",
        "4.     На основании рассчитанных значений опишите данные (описание должно быть полным и покрывать все полученные выше метрики)\n",
        "\n",
        "_____________________________________________________________________"
      ],
      "attachments":{
        
      },
      "metadata":{
        
      }
    },
    {
      "cell_type":"markdown",
      "source":[
        "Для того, чтобы проверить, что вы правильно соединили все датасеты в основной (без `students.csv`), запустите аналогичный приведенному ниже запрос. Выдача должна совпадать. Имейте в виду, что названия некоторых столбцов были переименованы."
      ],
      "attachments":{
        
      },
      "metadata":{
        
      }
    },
    {
      "cell_type":"code",
      "source":[
        "from datetime import date\n",
        "import pandas as pd\n",
        "import seaborn as sns\n",
        "import matplotlib.pyplot as plt"
      ],
      "execution_count":62,
      "outputs":[
        
      ],
      "metadata":{
        
      }
    },
    {
      "cell_type":"markdown",
      "source":[
        "подготавливаем датасеты из csv-файлов"
      ],
      "attachments":{
        
      },
      "metadata":{
        
      }
    },
    {
      "cell_type":"code",
      "source":[
        "df_courses = pd.read_csv('courses.csv')\n",
        "df_students = pd.read_csv('students.csv')\n",
        "df_progresses = pd.read_csv('progresses.csv')\n",
        "df_progr_phases = pd.read_csv('progress_phases.csv')\n",
        "df_course_content = pd.read_csv('course_contents.csv')"
      ],
      "execution_count":3,
      "outputs":[
        
      ],
      "metadata":{
        
      }
    },
    {
      "cell_type":"markdown",
      "source":[
        "проводим попарный мердж с датасетами для получения финальной таблицы main содержащей все данные из набора"
      ],
      "attachments":{
        
      },
      "metadata":{
        
      }
    },
    {
      "cell_type":"code",
      "source":[
        "df_courses.rename(columns = {'id': 'course_id', 'title': 'course_title', 'field': 'course_field'} , inplace = True)\n",
        "df_course_content = df_course_content.merge(df_courses, on = ['course_id'], how = 'left')"
      ],
      "execution_count":4,
      "outputs":[
        
      ],
      "metadata":{
        
      }
    },
    {
      "cell_type":"code",
      "source":[
        "df_progresses.rename(columns={'id': 'progress_id'}, inplace = True)\n",
        "df_progr_phases = df_progr_phases.merge(df_progresses, on = 'progress_id', how = 'left')\n"
      ],
      "execution_count":5,
      "outputs":[
        
      ],
      "metadata":{
        
      }
    },
    {
      "cell_type":"code",
      "source":[
        "main_df = df_progr_phases.merge(df_course_content, on = ['course_id', 'module_number', 'lesson_number'], how = 'left')"
      ],
      "execution_count":6,
      "outputs":[
        
      ],
      "metadata":{
        
      }
    },
    {
      "cell_type":"markdown",
      "source":[
        "проверяем полученную таблицу на соответствие с контрольным условием и чистим от лишнего (мусорного) столбца унаследованного из\n",
        "исходного csv-файла"
      ],
      "attachments":{
        
      },
      "metadata":{
        
      }
    },
    {
      "cell_type":"code",
      "source":[
        "main_df.drop('Unnamed: 0', axis=1)\n",
        "main_df[main_df.student_id == '768c2987a744c51ce64a5993a2a94eaf']"
      ],
      "execution_count":11,
      "outputs":[
        {
          "data":{
            "text\/html":[
              "<div>\n",
              "<style scoped>\n",
              "    .dataframe tbody tr th:only-of-type {\n",
              "        vertical-align: middle;\n",
              "    }\n",
              "\n",
              "    .dataframe tbody tr th {\n",
              "        vertical-align: top;\n",
              "    }\n",
              "\n",
              "    .dataframe thead th {\n",
              "        text-align: right;\n",
              "    }\n",
              "<\/style>\n",
              "<table border=\"1\" class=\"dataframe\">\n",
              "  <thead>\n",
              "    <tr style=\"text-align: right;\">\n",
              "      <th><\/th>\n",
              "      <th>progress_id<\/th>\n",
              "      <th>module_number<\/th>\n",
              "      <th>lesson_number<\/th>\n",
              "      <th>status<\/th>\n",
              "      <th>start_date<\/th>\n",
              "      <th>finish_date<\/th>\n",
              "      <th>student_id<\/th>\n",
              "      <th>course_id<\/th>\n",
              "      <th>module_title<\/th>\n",
              "      <th>lesson_title<\/th>\n",
              "      <th>lesson_token<\/th>\n",
              "      <th>is_video<\/th>\n",
              "      <th>is_homework<\/th>\n",
              "      <th>Unnamed: 0<\/th>\n",
              "      <th>course_title<\/th>\n",
              "      <th>course_field<\/th>\n",
              "    <\/tr>\n",
              "  <\/thead>\n",
              "  <tbody>\n",
              "    <tr>\n",
              "      <th>0<\/th>\n",
              "      <td>a387ab916f402cb3fbfffd29f68fd0ce<\/td>\n",
              "      <td>2<\/td>\n",
              "      <td>4<\/td>\n",
              "      <td>done<\/td>\n",
              "      <td>2018-06-23 08:28:50.681065+00<\/td>\n",
              "      <td>2018-06-23 08:28:52.439542+00<\/td>\n",
              "      <td>768c2987a744c51ce64a5993a2a94eaf<\/td>\n",
              "      <td>c9fcb746d51e41bc5a217002d081454b<\/td>\n",
              "      <td>Концептуальный дизайн<\/td>\n",
              "      <td>Практика — мокапы<\/td>\n",
              "      <td>7df8adef-1259-4b72-9bf2-353c73389d06<\/td>\n",
              "      <td>True<\/td>\n",
              "      <td>False<\/td>\n",
              "      <td>7<\/td>\n",
              "      <td>Веб-дизайн PRO 2.0<\/td>\n",
              "      <td>Design<\/td>\n",
              "    <\/tr>\n",
              "    <tr>\n",
              "      <th>1<\/th>\n",
              "      <td>a387ab916f402cb3fbfffd29f68fd0ce<\/td>\n",
              "      <td>1<\/td>\n",
              "      <td>1<\/td>\n",
              "      <td>done<\/td>\n",
              "      <td>2018-06-20 14:25:21.783762+00<\/td>\n",
              "      <td>2018-06-20 15:45:07.717209+00<\/td>\n",
              "      <td>768c2987a744c51ce64a5993a2a94eaf<\/td>\n",
              "      <td>c9fcb746d51e41bc5a217002d081454b<\/td>\n",
              "      <td>Специализация и личное позиционирование<\/td>\n",
              "      <td>Интро курса<\/td>\n",
              "      <td>df1a1f20-cdf7-443d-b25b-0a4b990b84d9<\/td>\n",
              "      <td>True<\/td>\n",
              "      <td>False<\/td>\n",
              "      <td>7<\/td>\n",
              "      <td>Веб-дизайн PRO 2.0<\/td>\n",
              "      <td>Design<\/td>\n",
              "    <\/tr>\n",
              "    <tr>\n",
              "      <th>2<\/th>\n",
              "      <td>a387ab916f402cb3fbfffd29f68fd0ce<\/td>\n",
              "      <td>2<\/td>\n",
              "      <td>2<\/td>\n",
              "      <td>done<\/td>\n",
              "      <td>2018-06-23 08:18:09.653771+00<\/td>\n",
              "      <td>2018-06-23 08:18:12.784616+00<\/td>\n",
              "      <td>768c2987a744c51ce64a5993a2a94eaf<\/td>\n",
              "      <td>c9fcb746d51e41bc5a217002d081454b<\/td>\n",
              "      <td>Концептуальный дизайн<\/td>\n",
              "      <td>Что такое концептуальный дизайн<\/td>\n",
              "      <td>f23b1890-9365-406f-816b-04864cefe58f<\/td>\n",
              "      <td>True<\/td>\n",
              "      <td>False<\/td>\n",
              "      <td>7<\/td>\n",
              "      <td>Веб-дизайн PRO 2.0<\/td>\n",
              "      <td>Design<\/td>\n",
              "    <\/tr>\n",
              "    <tr>\n",
              "      <th>3<\/th>\n",
              "      <td>a387ab916f402cb3fbfffd29f68fd0ce<\/td>\n",
              "      <td>1<\/td>\n",
              "      <td>4<\/td>\n",
              "      <td>done<\/td>\n",
              "      <td>2018-06-20 16:00:06.36178+00<\/td>\n",
              "      <td>2018-06-21 19:09:30.845034+00<\/td>\n",
              "      <td>768c2987a744c51ce64a5993a2a94eaf<\/td>\n",
              "      <td>c9fcb746d51e41bc5a217002d081454b<\/td>\n",
              "      <td>Специализация и личное позиционирование<\/td>\n",
              "      <td>Личное позиционирование<\/td>\n",
              "      <td>9dd50916-4aa6-4a73-b86c-56a1bd7753c8<\/td>\n",
              "      <td>True<\/td>\n",
              "      <td>False<\/td>\n",
              "      <td>7<\/td>\n",
              "      <td>Веб-дизайн PRO 2.0<\/td>\n",
              "      <td>Design<\/td>\n",
              "    <\/tr>\n",
              "    <tr>\n",
              "      <th>4<\/th>\n",
              "      <td>a387ab916f402cb3fbfffd29f68fd0ce<\/td>\n",
              "      <td>1<\/td>\n",
              "      <td>6<\/td>\n",
              "      <td>done<\/td>\n",
              "      <td>2018-06-21 19:10:36.957891+00<\/td>\n",
              "      <td>2018-06-28 15:59:25.320418+00<\/td>\n",
              "      <td>768c2987a744c51ce64a5993a2a94eaf<\/td>\n",
              "      <td>c9fcb746d51e41bc5a217002d081454b<\/td>\n",
              "      <td>Специализация и личное позиционирование<\/td>\n",
              "      <td>Домашняя работа<\/td>\n",
              "      <td>43e1fbdd-1ee9-4ed5-a577-4dadd80c02b3<\/td>\n",
              "      <td>False<\/td>\n",
              "      <td>True<\/td>\n",
              "      <td>7<\/td>\n",
              "      <td>Веб-дизайн PRO 2.0<\/td>\n",
              "      <td>Design<\/td>\n",
              "    <\/tr>\n",
              "    <tr>\n",
              "      <th>5<\/th>\n",
              "      <td>a387ab916f402cb3fbfffd29f68fd0ce<\/td>\n",
              "      <td>2<\/td>\n",
              "      <td>1<\/td>\n",
              "      <td>done<\/td>\n",
              "      <td>2018-06-23 08:18:07.476199+00<\/td>\n",
              "      <td>2018-06-23 08:18:09.552181+00<\/td>\n",
              "      <td>768c2987a744c51ce64a5993a2a94eaf<\/td>\n",
              "      <td>c9fcb746d51e41bc5a217002d081454b<\/td>\n",
              "      <td>Концептуальный дизайн<\/td>\n",
              "      <td>Брифинг от заказчика<\/td>\n",
              "      <td>a25caa09-95d0-4e0c-b3c0-ad15f23bead8<\/td>\n",
              "      <td>True<\/td>\n",
              "      <td>False<\/td>\n",
              "      <td>7<\/td>\n",
              "      <td>Веб-дизайн PRO 2.0<\/td>\n",
              "      <td>Design<\/td>\n",
              "    <\/tr>\n",
              "    <tr>\n",
              "      <th>6<\/th>\n",
              "      <td>a387ab916f402cb3fbfffd29f68fd0ce<\/td>\n",
              "      <td>1<\/td>\n",
              "      <td>3<\/td>\n",
              "      <td>done<\/td>\n",
              "      <td>2018-06-20 15:58:22.132468+00<\/td>\n",
              "      <td>2018-06-20 16:00:06.127191+00<\/td>\n",
              "      <td>768c2987a744c51ce64a5993a2a94eaf<\/td>\n",
              "      <td>c9fcb746d51e41bc5a217002d081454b<\/td>\n",
              "      <td>Специализация и личное позиционирование<\/td>\n",
              "      <td>Домашнее задание #1<\/td>\n",
              "      <td>a3d74174-08be-4634-949a-108d4f915fa6<\/td>\n",
              "      <td>True<\/td>\n",
              "      <td>False<\/td>\n",
              "      <td>7<\/td>\n",
              "      <td>Веб-дизайн PRO 2.0<\/td>\n",
              "      <td>Design<\/td>\n",
              "    <\/tr>\n",
              "    <tr>\n",
              "      <th>7<\/th>\n",
              "      <td>a387ab916f402cb3fbfffd29f68fd0ce<\/td>\n",
              "      <td>2<\/td>\n",
              "      <td>5<\/td>\n",
              "      <td>start<\/td>\n",
              "      <td>2018-06-23 08:31:00.338883+00<\/td>\n",
              "      <td>NaN<\/td>\n",
              "      <td>768c2987a744c51ce64a5993a2a94eaf<\/td>\n",
              "      <td>c9fcb746d51e41bc5a217002d081454b<\/td>\n",
              "      <td>Концептуальный дизайн<\/td>\n",
              "      <td>Домашняя работа<\/td>\n",
              "      <td>90c5f618-e9f3-4af8-96ab-f41b312bfa77<\/td>\n",
              "      <td>False<\/td>\n",
              "      <td>True<\/td>\n",
              "      <td>7<\/td>\n",
              "      <td>Веб-дизайн PRO 2.0<\/td>\n",
              "      <td>Design<\/td>\n",
              "    <\/tr>\n",
              "    <tr>\n",
              "      <th>8<\/th>\n",
              "      <td>a387ab916f402cb3fbfffd29f68fd0ce<\/td>\n",
              "      <td>1<\/td>\n",
              "      <td>2<\/td>\n",
              "      <td>done<\/td>\n",
              "      <td>2018-06-20 15:45:07.976223+00<\/td>\n",
              "      <td>2018-06-20 15:58:21.886722+00<\/td>\n",
              "      <td>768c2987a744c51ce64a5993a2a94eaf<\/td>\n",
              "      <td>c9fcb746d51e41bc5a217002d081454b<\/td>\n",
              "      <td>Специализация и личное позиционирование<\/td>\n",
              "      <td>Специализация<\/td>\n",
              "      <td>558acc64-3867-4ada-ac6f-36e9a7922f68<\/td>\n",
              "      <td>True<\/td>\n",
              "      <td>False<\/td>\n",
              "      <td>7<\/td>\n",
              "      <td>Веб-дизайн PRO 2.0<\/td>\n",
              "      <td>Design<\/td>\n",
              "    <\/tr>\n",
              "    <tr>\n",
              "      <th>9<\/th>\n",
              "      <td>a387ab916f402cb3fbfffd29f68fd0ce<\/td>\n",
              "      <td>1<\/td>\n",
              "      <td>5<\/td>\n",
              "      <td>done<\/td>\n",
              "      <td>2018-06-21 19:09:31.117521+00<\/td>\n",
              "      <td>2018-06-21 19:10:36.707919+00<\/td>\n",
              "      <td>768c2987a744c51ce64a5993a2a94eaf<\/td>\n",
              "      <td>c9fcb746d51e41bc5a217002d081454b<\/td>\n",
              "      <td>Специализация и личное позиционирование<\/td>\n",
              "      <td>Домашнее задание #2<\/td>\n",
              "      <td>7ea421f0-04b5-4df8-a76c-03e24692eba9<\/td>\n",
              "      <td>True<\/td>\n",
              "      <td>False<\/td>\n",
              "      <td>7<\/td>\n",
              "      <td>Веб-дизайн PRO 2.0<\/td>\n",
              "      <td>Design<\/td>\n",
              "    <\/tr>\n",
              "    <tr>\n",
              "      <th>10<\/th>\n",
              "      <td>a387ab916f402cb3fbfffd29f68fd0ce<\/td>\n",
              "      <td>2<\/td>\n",
              "      <td>3<\/td>\n",
              "      <td>done<\/td>\n",
              "      <td>2018-06-23 08:18:12.890698+00<\/td>\n",
              "      <td>2018-06-23 08:28:50.564437+00<\/td>\n",
              "      <td>768c2987a744c51ce64a5993a2a94eaf<\/td>\n",
              "      <td>c9fcb746d51e41bc5a217002d081454b<\/td>\n",
              "      <td>Концептуальный дизайн<\/td>\n",
              "      <td>Практика — дизайн-концепция<\/td>\n",
              "      <td>beb5abe6-b101-4003-a5ed-a87add92210a<\/td>\n",
              "      <td>True<\/td>\n",
              "      <td>False<\/td>\n",
              "      <td>7<\/td>\n",
              "      <td>Веб-дизайн PRO 2.0<\/td>\n",
              "      <td>Design<\/td>\n",
              "    <\/tr>\n",
              "    <tr>\n",
              "      <th>112420<\/th>\n",
              "      <td>6407c290505e790e92207a1dbc41a2cd<\/td>\n",
              "      <td>1<\/td>\n",
              "      <td>1<\/td>\n",
              "      <td>start<\/td>\n",
              "      <td>2018-06-20 14:25:13.010259+00<\/td>\n",
              "      <td>NaN<\/td>\n",
              "      <td>768c2987a744c51ce64a5993a2a94eaf<\/td>\n",
              "      <td>dad6f6ffc086caa89e2f40c28a9c7490<\/td>\n",
              "      <td>Профессия дизайнера в эпоху цифровых перемен<\/td>\n",
              "      <td>Приветствие<\/td>\n",
              "      <td>86d0d49c-5590-4c0b-8fca-927191bb3fd5<\/td>\n",
              "      <td>True<\/td>\n",
              "      <td>False<\/td>\n",
              "      <td>8<\/td>\n",
              "      <td>UX-дизайн<\/td>\n",
              "      <td>Design<\/td>\n",
              "    <\/tr>\n",
              "    <tr>\n",
              "      <th>132870<\/th>\n",
              "      <td>5767046d89ed7563a0c3a9a3896a23e6<\/td>\n",
              "      <td>1<\/td>\n",
              "      <td>3<\/td>\n",
              "      <td>done<\/td>\n",
              "      <td>2018-02-19 12:32:35.928905+00<\/td>\n",
              "      <td>2018-02-20 09:16:36.741375+00<\/td>\n",
              "      <td>768c2987a744c51ce64a5993a2a94eaf<\/td>\n",
              "      <td>04ba6d0b40670c43a209141fa01fa784<\/td>\n",
              "      <td>Введение в Motion Design. Тренды, разновидност...<\/td>\n",
              "      <td>Домашняя работа<\/td>\n",
              "      <td>c4377574-d117-45c7-8da5-dd7d1923517d<\/td>\n",
              "      <td>False<\/td>\n",
              "      <td>True<\/td>\n",
              "      <td>6<\/td>\n",
              "      <td>Анимация интерфейсов<\/td>\n",
              "      <td>Design<\/td>\n",
              "    <\/tr>\n",
              "    <tr>\n",
              "      <th>132871<\/th>\n",
              "      <td>5767046d89ed7563a0c3a9a3896a23e6<\/td>\n",
              "      <td>2<\/td>\n",
              "      <td>2<\/td>\n",
              "      <td>done<\/td>\n",
              "      <td>2018-02-22 08:57:31.008346+00<\/td>\n",
              "      <td>2018-04-28 13:45:40.708228+00<\/td>\n",
              "      <td>768c2987a744c51ce64a5993a2a94eaf<\/td>\n",
              "      <td>04ba6d0b40670c43a209141fa01fa784<\/td>\n",
              "      <td>12 принципов анимации от Walt Disney Studio<\/td>\n",
              "      <td>12 принципов анимации<\/td>\n",
              "      <td>7eea2930-11db-45c9-a16c-0d800b6dc99d<\/td>\n",
              "      <td>True<\/td>\n",
              "      <td>False<\/td>\n",
              "      <td>6<\/td>\n",
              "      <td>Анимация интерфейсов<\/td>\n",
              "      <td>Design<\/td>\n",
              "    <\/tr>\n",
              "    <tr>\n",
              "      <th>132872<\/th>\n",
              "      <td>5767046d89ed7563a0c3a9a3896a23e6<\/td>\n",
              "      <td>1<\/td>\n",
              "      <td>1<\/td>\n",
              "      <td>done<\/td>\n",
              "      <td>2018-01-13 15:20:23+00<\/td>\n",
              "      <td>2018-01-13 15:20:23+00<\/td>\n",
              "      <td>768c2987a744c51ce64a5993a2a94eaf<\/td>\n",
              "      <td>04ba6d0b40670c43a209141fa01fa784<\/td>\n",
              "      <td>Введение в Motion Design. Тренды, разновидност...<\/td>\n",
              "      <td>Знакомство<\/td>\n",
              "      <td>aa344de3-1191-4e69-b485-61823118f71c<\/td>\n",
              "      <td>True<\/td>\n",
              "      <td>False<\/td>\n",
              "      <td>6<\/td>\n",
              "      <td>Анимация интерфейсов<\/td>\n",
              "      <td>Design<\/td>\n",
              "    <\/tr>\n",
              "    <tr>\n",
              "      <th>132873<\/th>\n",
              "      <td>5767046d89ed7563a0c3a9a3896a23e6<\/td>\n",
              "      <td>1<\/td>\n",
              "      <td>2<\/td>\n",
              "      <td>done<\/td>\n",
              "      <td>2018-01-13 15:20:23+00<\/td>\n",
              "      <td>2018-01-14 13:47:25+00<\/td>\n",
              "      <td>768c2987a744c51ce64a5993a2a94eaf<\/td>\n",
              "      <td>04ba6d0b40670c43a209141fa01fa784<\/td>\n",
              "      <td>Введение в Motion Design. Тренды, разновидност...<\/td>\n",
              "      <td>Введение в Motion Design. Тренды, разновидност...<\/td>\n",
              "      <td>246c8429-dd18-4f3a-a9fb-d3c07e7d6912<\/td>\n",
              "      <td>True<\/td>\n",
              "      <td>False<\/td>\n",
              "      <td>6<\/td>\n",
              "      <td>Анимация интерфейсов<\/td>\n",
              "      <td>Design<\/td>\n",
              "    <\/tr>\n",
              "    <tr>\n",
              "      <th>132874<\/th>\n",
              "      <td>5767046d89ed7563a0c3a9a3896a23e6<\/td>\n",
              "      <td>2<\/td>\n",
              "      <td>1<\/td>\n",
              "      <td>done<\/td>\n",
              "      <td>2018-02-22 08:54:10.987784+00<\/td>\n",
              "      <td>2018-02-22 08:57:30.914939+00<\/td>\n",
              "      <td>768c2987a744c51ce64a5993a2a94eaf<\/td>\n",
              "      <td>04ba6d0b40670c43a209141fa01fa784<\/td>\n",
              "      <td>12 принципов анимации от Walt Disney Studio<\/td>\n",
              "      <td>Интро<\/td>\n",
              "      <td>7ea16a2d-e6d1-4158-907f-ae0ce8379c45<\/td>\n",
              "      <td>True<\/td>\n",
              "      <td>False<\/td>\n",
              "      <td>6<\/td>\n",
              "      <td>Анимация интерфейсов<\/td>\n",
              "      <td>Design<\/td>\n",
              "    <\/tr>\n",
              "    <tr>\n",
              "      <th>132875<\/th>\n",
              "      <td>5767046d89ed7563a0c3a9a3896a23e6<\/td>\n",
              "      <td>2<\/td>\n",
              "      <td>3<\/td>\n",
              "      <td>fail<\/td>\n",
              "      <td>2018-04-28 13:45:40.955076+00<\/td>\n",
              "      <td>NaN<\/td>\n",
              "      <td>768c2987a744c51ce64a5993a2a94eaf<\/td>\n",
              "      <td>04ba6d0b40670c43a209141fa01fa784<\/td>\n",
              "      <td>12 принципов анимации от Walt Disney Studio<\/td>\n",
              "      <td>Домашняя работа<\/td>\n",
              "      <td>f6f37ada-7763-4a06-9e45-a42ca568e69a<\/td>\n",
              "      <td>False<\/td>\n",
              "      <td>True<\/td>\n",
              "      <td>6<\/td>\n",
              "      <td>Анимация интерфейсов<\/td>\n",
              "      <td>Design<\/td>\n",
              "    <\/tr>\n",
              "    <tr>\n",
              "      <th>155020<\/th>\n",
              "      <td>c90ebe1431eac5cbb11692100b7a0f8d<\/td>\n",
              "      <td>1<\/td>\n",
              "      <td>3<\/td>\n",
              "      <td>done<\/td>\n",
              "      <td>2018-06-19 15:08:14.103923+00<\/td>\n",
              "      <td>2018-06-19 15:39:53.661163+00<\/td>\n",
              "      <td>768c2987a744c51ce64a5993a2a94eaf<\/td>\n",
              "      <td>e9bb9205eeed307ee7cbaa08bfd166c3<\/td>\n",
              "      <td>Знакомство с языком<\/td>\n",
              "      <td>Инструменты разработчика<\/td>\n",
              "      <td>460c54ea-d899-44d3-8940-00302ff5f2e5<\/td>\n",
              "      <td>True<\/td>\n",
              "      <td>False<\/td>\n",
              "      <td>5<\/td>\n",
              "      <td>JavaScript с нуля<\/td>\n",
              "      <td>Development<\/td>\n",
              "    <\/tr>\n",
              "    <tr>\n",
              "      <th>155021<\/th>\n",
              "      <td>c90ebe1431eac5cbb11692100b7a0f8d<\/td>\n",
              "      <td>1<\/td>\n",
              "      <td>1<\/td>\n",
              "      <td>done<\/td>\n",
              "      <td>2018-06-19 10:40:05.063485+00<\/td>\n",
              "      <td>2018-06-19 14:56:16.346353+00<\/td>\n",
              "      <td>768c2987a744c51ce64a5993a2a94eaf<\/td>\n",
              "      <td>e9bb9205eeed307ee7cbaa08bfd166c3<\/td>\n",
              "      <td>Знакомство с языком<\/td>\n",
              "      <td>Интро<\/td>\n",
              "      <td>0d4678b0-abfe-4132-9193-97f9b0f08d3a<\/td>\n",
              "      <td>True<\/td>\n",
              "      <td>False<\/td>\n",
              "      <td>5<\/td>\n",
              "      <td>JavaScript с нуля<\/td>\n",
              "      <td>Development<\/td>\n",
              "    <\/tr>\n",
              "    <tr>\n",
              "      <th>155022<\/th>\n",
              "      <td>c90ebe1431eac5cbb11692100b7a0f8d<\/td>\n",
              "      <td>1<\/td>\n",
              "      <td>7<\/td>\n",
              "      <td>start<\/td>\n",
              "      <td>2018-06-19 18:40:00.576904+00<\/td>\n",
              "      <td>NaN<\/td>\n",
              "      <td>768c2987a744c51ce64a5993a2a94eaf<\/td>\n",
              "      <td>e9bb9205eeed307ee7cbaa08bfd166c3<\/td>\n",
              "      <td>Знакомство с языком<\/td>\n",
              "      <td>Домашняя работа<\/td>\n",
              "      <td>af6e818e-08f0-4e32-981e-95a35395ee8f<\/td>\n",
              "      <td>False<\/td>\n",
              "      <td>True<\/td>\n",
              "      <td>5<\/td>\n",
              "      <td>JavaScript с нуля<\/td>\n",
              "      <td>Development<\/td>\n",
              "    <\/tr>\n",
              "    <tr>\n",
              "      <th>155023<\/th>\n",
              "      <td>c90ebe1431eac5cbb11692100b7a0f8d<\/td>\n",
              "      <td>1<\/td>\n",
              "      <td>5<\/td>\n",
              "      <td>done<\/td>\n",
              "      <td>2018-06-19 18:10:52.316728+00<\/td>\n",
              "      <td>2018-06-19 18:35:38.720317+00<\/td>\n",
              "      <td>768c2987a744c51ce64a5993a2a94eaf<\/td>\n",
              "      <td>e9bb9205eeed307ee7cbaa08bfd166c3<\/td>\n",
              "      <td>Знакомство с языком<\/td>\n",
              "      <td>Синтаксис языка<\/td>\n",
              "      <td>fe10ef7f-44cb-4184-b06f-d7c38b0e81a5<\/td>\n",
              "      <td>True<\/td>\n",
              "      <td>False<\/td>\n",
              "      <td>5<\/td>\n",
              "      <td>JavaScript с нуля<\/td>\n",
              "      <td>Development<\/td>\n",
              "    <\/tr>\n",
              "    <tr>\n",
              "      <th>155024<\/th>\n",
              "      <td>c90ebe1431eac5cbb11692100b7a0f8d<\/td>\n",
              "      <td>1<\/td>\n",
              "      <td>6<\/td>\n",
              "      <td>done<\/td>\n",
              "      <td>2018-06-19 18:35:38.884217+00<\/td>\n",
              "      <td>2018-06-19 18:37:11.155066+00<\/td>\n",
              "      <td>768c2987a744c51ce64a5993a2a94eaf<\/td>\n",
              "      <td>e9bb9205eeed307ee7cbaa08bfd166c3<\/td>\n",
              "      <td>Знакомство с языком<\/td>\n",
              "      <td>Аутро<\/td>\n",
              "      <td>efe6a65b-a9a2-4d3a-910a-750e72c3f118<\/td>\n",
              "      <td>True<\/td>\n",
              "      <td>False<\/td>\n",
              "      <td>5<\/td>\n",
              "      <td>JavaScript с нуля<\/td>\n",
              "      <td>Development<\/td>\n",
              "    <\/tr>\n",
              "    <tr>\n",
              "      <th>155025<\/th>\n",
              "      <td>c90ebe1431eac5cbb11692100b7a0f8d<\/td>\n",
              "      <td>1<\/td>\n",
              "      <td>4<\/td>\n",
              "      <td>done<\/td>\n",
              "      <td>2018-06-19 15:39:53.923777+00<\/td>\n",
              "      <td>2018-06-19 18:10:52.1737+00<\/td>\n",
              "      <td>768c2987a744c51ce64a5993a2a94eaf<\/td>\n",
              "      <td>e9bb9205eeed307ee7cbaa08bfd166c3<\/td>\n",
              "      <td>Знакомство с языком<\/td>\n",
              "      <td>Hello, world!<\/td>\n",
              "      <td>73315f69-8587-4f46-ab6b-fe57c8f1aa52<\/td>\n",
              "      <td>True<\/td>\n",
              "      <td>False<\/td>\n",
              "      <td>5<\/td>\n",
              "      <td>JavaScript с нуля<\/td>\n",
              "      <td>Development<\/td>\n",
              "    <\/tr>\n",
              "    <tr>\n",
              "      <th>155026<\/th>\n",
              "      <td>c90ebe1431eac5cbb11692100b7a0f8d<\/td>\n",
              "      <td>1<\/td>\n",
              "      <td>2<\/td>\n",
              "      <td>done<\/td>\n",
              "      <td>2018-06-19 14:56:16.570129+00<\/td>\n",
              "      <td>2018-06-19 15:08:13.930725+00<\/td>\n",
              "      <td>768c2987a744c51ce64a5993a2a94eaf<\/td>\n",
              "      <td>e9bb9205eeed307ee7cbaa08bfd166c3<\/td>\n",
              "      <td>Знакомство с языком<\/td>\n",
              "      <td>Что умеет JavaScript и почему он так популярен?<\/td>\n",
              "      <td>6af5b93a-593b-48a0-bb03-42fa2571ede5<\/td>\n",
              "      <td>True<\/td>\n",
              "      <td>False<\/td>\n",
              "      <td>5<\/td>\n",
              "      <td>JavaScript с нуля<\/td>\n",
              "      <td>Development<\/td>\n",
              "    <\/tr>\n",
              "  <\/tbody>\n",
              "<\/table>\n",
              "<\/div>"
            ]
          },
          "metadata":{
            
          },
          "output_type":"display_data"
        }
      ],
      "metadata":{
        
      }
    },
    {
      "cell_type":"markdown",
      "source":[
        "вычисляем основные показатели:\n",
        "- \n",
        "    - общее количество курсов в датасете,\n",
        "    - количество модулей на каждом курсе,\n",
        "    - количество уроков в каждом модуле на каждом курсе,\n",
        "    - медианное количество уроков в модуле на каждом курсе,\n",
        "    - количество учеников на каждом курсе\n",
        "    - минимальный, максимальный, средний, медианный возраст студентов\n",
        "    - минимальный, максимальный, средний, медианный возраст студентов на каждом курсе"
      ],
      "attachments":{
        
      },
      "metadata":{
        
      }
    },
    {
      "cell_type":"code",
      "source":[
        "print('Общее количество курсов: {}'.format(main_df.groupby(['course_id', 'course_title']).count().shape[0]))"
      ],
      "execution_count":14,
      "outputs":[
        {
          "name":"stdout",
          "text":[
            "Общее количество курсов: 15\n"
          ],
          "output_type":"stream"
        }
      ],
      "metadata":{
        
      }
    },
    {
      "cell_type":"code",
      "source":[
        "df_course_content.groupby(['course_title'])['module_title'].count().sort_values(ascending = False)"
      ],
      "execution_count":16,
      "outputs":[
        {
          "data":{
            "text\/plain":[
              "course_title\n",
              "Интернет-маркетолог от Ingate          171\n",
              "JavaScript с нуля                      119\n",
              "Java-разработчик c нуля                115\n",
              "Java-разработчик                       114\n",
              "Руководитель digital-проектов           96\n",
              "Веб-дизайн с нуля 2.0                   82\n",
              "UX-дизайн                               73\n",
              "Веб-дизайн PRO 2.0                      67\n",
              "Анимация интерфейсов                    63\n",
              "SMM-маркетолог от А до Я                62\n",
              "Веб-дизайн Базовый                      59\n",
              "Веб-вёрстка для начинающих 2.0          55\n",
              "Excel Базовый                           49\n",
              "PHP-разработчик с 0 до PRO. Часть 1     41\n",
              "Веб-разработчик                         35\n",
              "Name: module_title, dtype: int64"
            ]
          },
          "metadata":{
            
          },
          "output_type":"display_data"
        }
      ],
      "metadata":{
        
      }
    },
    {
      "cell_type":"code",
      "source":[
        "df_course_content.groupby(['course_title', 'module_title'])['lesson_number'].count()"
      ],
      "execution_count":18,
      "outputs":[
        {
          "data":{
            "text\/plain":[
              "course_title                   module_title                                       \n",
              "Excel Базовый                   Визуализация данных Excel                              5\n",
              "                               Основной функционал Excel                              11\n",
              "                               Основной функционал Excel (продолжение)                 7\n",
              "                               Сводные таблицы Excel                                   5\n",
              "                               Формулы и функции Excel. Более сложные формулы          5\n",
              "                                                                                      ..\n",
              "Руководитель digital-проектов  Решение факапов. Lean\/TOC. Обзор.                       5\n",
              "                               Требовательность digital-продюсера                      4\n",
              "                               Управление временем                                     4\n",
              "                               Управление дизайнерами. Разработка дизайна по scrum     7\n",
              "                               Экологичный путь менеджера                              4\n",
              "Name: lesson_number, Length: 229, dtype: int64"
            ]
          },
          "metadata":{
            
          },
          "output_type":"display_data"
        }
      ],
      "metadata":{
        
      }
    },
    {
      "cell_type":"code",
      "source":[
        "df_course_content.groupby(['course_id', 'course_title', 'module_title'])['lesson_number'].mean()"
      ],
      "execution_count":20,
      "outputs":[
        {
          "data":{
            "text\/plain":[
              "course_id                         course_title          module_title                               \n",
              "04ba6d0b40670c43a209141fa01fa784  Анимация интерфейсов  12 принципов анимации от Walt Disney Studio    2.0\n",
              "                                                        After Effects                                  2.5\n",
              "                                                        InVision Studio                                3.5\n",
              "                                                        Material Design                                2.0\n",
              "                                                        Motion design в интерфейсах                    2.5\n",
              "                                                                                                      ... \n",
              "e9bb9205eeed307ee7cbaa08bfd166c3  JavaScript с нуля     Разное                                         4.0\n",
              "                                                        Сборка проектов                                3.5\n",
              "                                                        Современный JavaScript; ES 2015                5.0\n",
              "                                                        Функции                                        4.5\n",
              "                                                        Экзаменационное задание                        1.0\n",
              "Name: lesson_number, Length: 229, dtype: float64"
            ]
          },
          "metadata":{
            
          },
          "output_type":"display_data"
        }
      ],
      "metadata":{
        
      }
    },
    {
      "cell_type":"markdown",
      "source":[
        "обрабатывать даты рождения студентов и создавать столбец возраст будем с помощью list comprehensions для обработки ошибок в столбце даты рождения из датасета students"
      ],
      "attachments":{
        
      },
      "metadata":{
        
      }
    },
    {
      "cell_type":"code",
      "source":[
        "df_students['birthday'] = [pd.to_datetime(i, errors='coerce') for i in df_students.birthday]\n",
        "df_students['age'] = [date.today().year - i.year for i in df_students.birthday]\n",
        "df_students_cut = df_students.dropna()\n",
        "df_students_cut = df_students_cut[df_students_cut['age'].isin(range(16,80))]\n",
        "df_students_cut['age'].agg(['max', 'min', 'mean'])"
      ],
      "execution_count":31,
      "outputs":[
        {
          "data":{
            "text\/plain":[
              "max     77.000000\n",
              "min     16.000000\n",
              "mean    31.287049\n",
              "Name: age, dtype: float64"
            ]
          },
          "metadata":{
            
          },
          "output_type":"display_data"
        }
      ],
      "metadata":{
        
      }
    },
    {
      "cell_type":"code",
      "source":[
        "df_stud_count = df_progresses.merge(df_courses, on = 'course_id', how = 'left')\n",
        "df_stud_count.groupby('course_title')['student_id'].count()\n"
      ],
      "execution_count":38,
      "outputs":[
        {
          "data":{
            "text\/plain":[
              "course_title\n",
              "Excel Базовый                           782\n",
              "Java-разработчик                        763\n",
              "Java-разработчик c нуля                 581\n",
              "JavaScript с нуля                       966\n",
              "PHP-разработчик с 0 до PRO. Часть 1     854\n",
              "SMM-маркетолог от А до Я                511\n",
              "UX-дизайн                              1151\n",
              "Анимация интерфейсов                    598\n",
              "Веб-вёрстка для начинающих 2.0         2004\n",
              "Веб-дизайн PRO 2.0                     1711\n",
              "Веб-дизайн Базовый                      518\n",
              "Веб-дизайн с нуля 2.0                  2014\n",
              "Веб-разработчик                         628\n",
              "Интернет-маркетолог от Ingate          2168\n",
              "Руководитель digital-проектов           685\n",
              "Name: student_id, dtype: int64"
            ]
          },
          "metadata":{
            
          },
          "output_type":"display_data"
        }
      ],
      "metadata":{
        
      }
    },
    {
      "cell_type":"code",
      "source":[
        "df_stud_count.head()"
      ],
      "execution_count":44,
      "outputs":[
        {
          "data":{
            "text\/html":[
              "<div>\n",
              "<style scoped>\n",
              "    .dataframe tbody tr th:only-of-type {\n",
              "        vertical-align: middle;\n",
              "    }\n",
              "\n",
              "    .dataframe tbody tr th {\n",
              "        vertical-align: top;\n",
              "    }\n",
              "\n",
              "    .dataframe thead th {\n",
              "        text-align: right;\n",
              "    }\n",
              "<\/style>\n",
              "<table border=\"1\" class=\"dataframe\">\n",
              "  <thead>\n",
              "    <tr style=\"text-align: right;\">\n",
              "      <th><\/th>\n",
              "      <th>progress_id<\/th>\n",
              "      <th>student_id<\/th>\n",
              "      <th>course_id<\/th>\n",
              "      <th>Unnamed: 0<\/th>\n",
              "      <th>course_title<\/th>\n",
              "      <th>course_field<\/th>\n",
              "    <\/tr>\n",
              "  <\/thead>\n",
              "  <tbody>\n",
              "    <tr>\n",
              "      <th>0<\/th>\n",
              "      <td>8459fbc07e32ec92bd7b43d7df9bfa89<\/td>\n",
              "      <td>a6ae278c0eab719b3784e5ea147c128f<\/td>\n",
              "      <td>0770b1b039964228294f1f34b29fc2c1<\/td>\n",
              "      <td>3<\/td>\n",
              "      <td>Руководитель digital-проектов<\/td>\n",
              "      <td>Business<\/td>\n",
              "    <\/tr>\n",
              "    <tr>\n",
              "      <th>1<\/th>\n",
              "      <td>a9d173142534e33ce39146017f9c6835<\/td>\n",
              "      <td>e24062de06d301937b3b3a8e383e3e21<\/td>\n",
              "      <td>bf27a4bf4ada4c756451703ea62a914f<\/td>\n",
              "      <td>9<\/td>\n",
              "      <td>Интернет-маркетолог от Ingate<\/td>\n",
              "      <td>Marketing<\/td>\n",
              "    <\/tr>\n",
              "    <tr>\n",
              "      <th>2<\/th>\n",
              "      <td>da26551a71cd62bbab844e3e54af7f71<\/td>\n",
              "      <td>35a36d90b745992b59085c8d54a072e7<\/td>\n",
              "      <td>6e4837f0a65c68efbfdd0594d6774701<\/td>\n",
              "      <td>14<\/td>\n",
              "      <td>Java-разработчик<\/td>\n",
              "      <td>Development<\/td>\n",
              "    <\/tr>\n",
              "    <tr>\n",
              "      <th>3<\/th>\n",
              "      <td>cda22f5fb5b5dcfad42b59b91b1938dc<\/td>\n",
              "      <td>37e8e8179295ae764524223086b0b568<\/td>\n",
              "      <td>abce125a877c2196a3bc7bfbc11b5fc5<\/td>\n",
              "      <td>4<\/td>\n",
              "      <td>Веб-вёрстка для начинающих 2.0<\/td>\n",
              "      <td>Development<\/td>\n",
              "    <\/tr>\n",
              "    <tr>\n",
              "      <th>4<\/th>\n",
              "      <td>5ead083521d7f2284a43290c743aa93b<\/td>\n",
              "      <td>37e8e8179295ae764524223086b0b568<\/td>\n",
              "      <td>17013cd19d25cb3f28dc1b2683721bb9<\/td>\n",
              "      <td>1<\/td>\n",
              "      <td>Веб-дизайн Базовый<\/td>\n",
              "      <td>Design<\/td>\n",
              "    <\/tr>\n",
              "  <\/tbody>\n",
              "<\/table>\n",
              "<\/div>"
            ]
          },
          "metadata":{
            
          },
          "output_type":"display_data"
        }
      ],
      "metadata":{
        
      }
    },
    {
      "cell_type":"code",
      "source":[
        "df_students_cut.rename(columns={'id':'student_id'}, inplace=True)\n",
        "df_stud_count = df_stud_count.merge(df_students_cut, on= 'student_id', how= 'left')\n",
        "df_stud_count.dropna(inplace=True)\n",
        "df_stud_count.groupby('course_title')['age'].mean()\n",
        "#df_stud_count.head(5)"
      ],
      "execution_count":78,
      "outputs":[
        {
          "data":{
            "text\/plain":[
              "course_title\n",
              "Excel Базовый                          35.444444\n",
              "Java-разработчик                       31.059649\n",
              "Java-разработчик c нуля                30.725806\n",
              "JavaScript с нуля                      30.280161\n",
              "PHP-разработчик с 0 до PRO. Часть 1    31.016492\n",
              "SMM-маркетолог от А до Я               31.504673\n",
              "UX-дизайн                              31.754470\n",
              "Анимация интерфейсов                   31.271967\n",
              "Веб-вёрстка для начинающих 2.0         30.200449\n",
              "Веб-дизайн PRO 2.0                     30.195779\n",
              "Веб-дизайн Базовый                     30.219298\n",
              "Веб-дизайн с нуля 2.0                  30.139033\n",
              "Веб-разработчик                        29.836879\n",
              "Интернет-маркетолог от Ingate          33.172819\n",
              "Руководитель digital-проектов          33.469287\n",
              "Name: age, dtype: float64"
            ]
          },
          "metadata":{
            
          },
          "output_type":"display_data"
        }
      ],
      "metadata":{
        
      }
    },
    {
      "cell_type":"code",
      "source":[
        "df_stud_count.groupby('course_title')['age'].max()"
      ],
      "execution_count":60,
      "outputs":[
        {
          "data":{
            "text\/plain":[
              "course_title\n",
              "Excel Базовый                          62.0\n",
              "Java-разработчик                       66.0\n",
              "Java-разработчик c нуля                56.0\n",
              "JavaScript с нуля                      61.0\n",
              "PHP-разработчик с 0 до PRO. Часть 1    76.0\n",
              "SMM-маркетолог от А до Я               53.0\n",
              "UX-дизайн                              59.0\n",
              "Анимация интерфейсов                   52.0\n",
              "Веб-вёрстка для начинающих 2.0         61.0\n",
              "Веб-дизайн PRO 2.0                     60.0\n",
              "Веб-дизайн Базовый                     52.0\n",
              "Веб-дизайн с нуля 2.0                  77.0\n",
              "Веб-разработчик                        52.0\n",
              "Интернет-маркетолог от Ingate          59.0\n",
              "Руководитель digital-проектов          49.0\n",
              "Name: age, dtype: float64"
            ]
          },
          "metadata":{
            
          },
          "output_type":"display_data"
        }
      ],
      "metadata":{
        
      }
    },
    {
      "cell_type":"code",
      "source":[
        "df_stud_count.groupby('course_title')['age'].min()"
      ],
      "execution_count":61,
      "outputs":[
        {
          "data":{
            "text\/plain":[
              "course_title\n",
              "Excel Базовый                          18.0\n",
              "Java-разработчик                       16.0\n",
              "Java-разработчик c нуля                16.0\n",
              "JavaScript с нуля                      16.0\n",
              "PHP-разработчик с 0 до PRO. Часть 1    16.0\n",
              "SMM-маркетолог от А до Я               19.0\n",
              "UX-дизайн                              16.0\n",
              "Анимация интерфейсов                   16.0\n",
              "Веб-вёрстка для начинающих 2.0         16.0\n",
              "Веб-дизайн PRO 2.0                     16.0\n",
              "Веб-дизайн Базовый                     17.0\n",
              "Веб-дизайн с нуля 2.0                  16.0\n",
              "Веб-разработчик                        17.0\n",
              "Интернет-маркетолог от Ingate          18.0\n",
              "Руководитель digital-проектов          22.0\n",
              "Name: age, dtype: float64"
            ]
          },
          "metadata":{
            
          },
          "output_type":"display_data"
        }
      ],
      "metadata":{
        
      }
    },
    {
      "cell_type":"code",
      "source":[
        "import matplotlib.pyplot as plt\n",
        "import numpy as nm\n",
        "df_stud_count = df_progresses.merge(df_courses, on = 'course_id', how = 'left')\n",
        "plt.figure(figsize=(12,14),frameon=False)\n",
        "plt.tick_params(labelsize=14)\n",
        "\n",
        "stud_median = df_stud_count\\\n",
        "    .groupby(['course_title'])['student_id']\\\n",
        "    .agg(count='count')\\\n",
        "    .sort_values(by='count', ascending=False)\n",
        "\n",
        "sns.set_theme(style=\"whitegrid\")\n",
        "sns.barplot(stud_median['count'], stud_median.index, estimator=nm.median)\n",
        "plt.legend(stud_median.index)\n",
        "plt.show()"
      ],
      "execution_count":90,
      "outputs":[
        {
          "name":"stderr",
          "text":[
            "\/opt\/python\/envs\/default\/lib\/python3.8\/site-packages\/seaborn\/_decorators.py:36: FutureWarning: Pass the following variables as keyword args: x, y. From version 0.12, the only valid positional argument will be `data`, and passing other arguments without an explicit keyword will result in an error or misinterpretation.\n",
            "  warnings.warn(\n"
          ],
          "output_type":"stream"
        },
        {
          "data":{
            "image\/png":"[encoded data removed]"
          },
          "metadata":{
            "image\/png":{
              
            }
          },
          "output_type":"display_data"
        }
      ],
      "metadata":{
        
      }
    },
    {
      "cell_type":"markdown",
      "source":[
        "## 2. Расчет потенциальной нагрузки на преподавателей\n",
        "\n",
        "1. **(p)** Рассчитать прирост студентов на каждом курсе в каждом месяце за всю историю (каждый месяц в диапазоне от марта 2016 до июля 2019 включительно). Считать дату начала прохождения курса студентом по дате начала первой домашней работы.\n",
        "2. **(m)** На основании первого пункта построить line-graph с приростом студентов в каждом месяце для каждого курса. 15 графиков. Графики должны иметь заголовки, оси должны быть подписаны. Ticks нужно развернуть так, чтобы они были читаемы.\n",
        "3. **(m)** На основании первого пункта построить line-graph с несколькими линиями, отражающими прирост студентов в каждом месяце для каждого курса. 15 линий на графике. Ticks нужно развернуть так, чтобы они были читаемы. График должен иметь заголовок. Ось, отражающая прирост, должна быть подписана. Линия для каждого курса должна иметь свой цвет (нужна легенда). Рамок у графика быть не должно ⭐\n",
        "4. **(p)** Рассчитать количество прогрессов по выполнению домашних работ в каждом месяце за всю историю (каждый месяц в диапазоне от марта 2016 до июля 2019 включительно) для каждого курса. Учитывать, что выполнение домашнего задания может перетекать из одного месяца в другой (такие дз надо включать в общее число прогрессов для всех месяцев, которые покрывает срок выполнения этих дз)\n",
        "5. **(m)** Построить line-graph по четвертому пункту. 15 графиков. Графики должны иметь заголовки, оси должны быть подписаны. Ticks нужно развернуть так, чтобы они были читаемы\n",
        "6. **(m)** Построить один line-graph для всех курсов по четвертому пункту. 15 линий на графике. Ticks нужно развернуть так, чтобы они были читаемы. График должен иметь заголовок. Ось, отражающая количество прогрессов, должна быть подписана. Линия для каждого курса должна иметь свой цвет (нужна легенда). Рамок у графика быть не должно ⭐\n",
        "7. На основании рассчитанных значений сделайте аналитический вывод (должен быть полным и покрывать все полученные выше метрики)"
      ],
      "attachments":{
        
      },
      "metadata":{
        
      }
    },
    {
      "cell_type":"code",
      "source":[
        "### YOUR CODE HERE ###\n"
      ],
      "execution_count":5,
      "outputs":[
        
      ],
      "metadata":{
        
      }
    },
    {
      "cell_type":"markdown",
      "source":[
        "## 3. Выявление проблемных модулей\n",
        "\n",
        "1. **(p)** Рассчитать минимальное, максимальное, среднее, медианное время прохождения каждого модуля (разность между временем начала и окончания выполнения домашней работы) для каждого курса. Если домашних заданий в модуле несколько, то считать разность между временем начала выполнения первой домашней работы и временем окончания выполнения последней домашней работы в модуле\n",
        "2. **(m)** На основании первого пункта построить line-graph с медианным временем прохождения каждого модуля для каждого курса. 15 графиков. Графики должны иметь заголовки\n",
        "3. **(p)**  Чтобы выявить сезонность, посчитать медианное время выполнения домашней работы по месяцам (12 месяцев, январь-декабрь) для каждого курса. \n",
        "4. **(m)** На основании третьего пункта построить line-graph, на который будут нанесены линии для каждого курса с медианным временем выполнения домашней работы по месяцам. 15 линий на графике. График должен иметь заголовок. Ось, отражающая время прохождения, должна быть подписана. Линия для каждого курса должна иметь свой цвет (нужна легенда). Рамок у графика быть не должно  ⭐\n",
        "5. На основании рассчитанных значений сделайте аналитический вывод (должен быть полным и покрывать все полученные выше метрики)"
      ],
      "attachments":{
        
      },
      "metadata":{
        
      }
    },
    {
      "cell_type":"code",
      "source":[
        "### YOUR CODE HERE ###\n",
        "\n"
      ],
      "execution_count":6,
      "outputs":[
        
      ],
      "metadata":{
        
      }
    },
    {
      "cell_type":"markdown",
      "source":[
        "## 4. Расчет конверсии\n",
        "\n",
        "1. **(p)** Посчитать конверсию перехода студентов из одного модуля в другой на каждом курсе. Формула: отношение количества студентов, приступивших к выполнению домашнего задания в этом модуле (если дз в модуле несколько, то считать по первому дз в модуле), к количеству студентов, сдавших задание в предыдущем модуле (если дз в модуле несколько, то считать по последнему дз в модуле).\n",
        "2. **(m)** Постройте bar-chart, отражающий конверсию перехода студентов из одного модуля в другой на каждом курсе. График должен иметь заголовок. Ticks нужно развернуть так, чтобы они были читаемы\n",
        "3. **(m)** Постройте горизонтальный (столбцы должны располагаться горизонтально) bar-chart, отражающий конверсию перехода студентов из одного модуля в другой на каждом курсе. 15 графиков. Графики должны иметь заголовки. Ticks должны содержать номер и название модуля. Цвет столбцов графиков должен содержать информацию о сфере, к которой относится курс (нужна легенда). Прозрачность должна стоять на отметке 0.1. На графики должна быть нанесена линия медианы конверсии для каждого курса. У медианы должен быть свой цвет. Рамок у графиков быть не должно ⭐\n",
        "4. На основании рассчитанных значений сделайте аналитический вывод (должен быть полным и покрывать все полученные выше метрики)"
      ],
      "attachments":{
        
      },
      "metadata":{
        
      }
    },
    {
      "cell_type":"code",
      "source":[
        "### YOUR CODE HERE ###\n",
        "\n"
      ],
      "execution_count":7,
      "outputs":[
        
      ],
      "metadata":{
        
      }
    },
    {
      "cell_type":"markdown",
      "source":[
        "## 5. Метрика успеваемости \n",
        "\n",
        "&nbsp;&nbsp;&nbsp;&nbsp;*(необязательное задание)*\n",
        "\n",
        "Иногда студенты берут курсы, которые оказываются для них неподъемными. Это может быть как по причинам недостаточной изначальной подготовки, так и по причинам, связанным с низкой мотивацией студента. Для улучшения качества контента полезно выявить причину. На основании имеющихся данных придумайте метрику успеваемости студента. **Обоснуйте ее.** Выявите таких студентов на каждом курсе, чтобы предоставить продюсерам список проблемных студентов. "
      ],
      "attachments":{
        
      },
      "metadata":{
        
      }
    },
    {
      "cell_type":"code",
      "source":[
        "### YOUR CODE HERE ###\n",
        "\n"
      ],
      "execution_count":8,
      "outputs":[
        
      ],
      "metadata":{
        
      }
    }
  ],
  "metadata":{
    
  },
  "nbformat":4,
  "nbformat_minor":0
}